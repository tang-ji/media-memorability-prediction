{
 "cells": [
  {
   "cell_type": "code",
   "execution_count": 1,
   "metadata": {},
   "outputs": [],
   "source": [
    "from src.prediction import Metric\n",
    "from src.model import Model_Final"
   ]
  },
  {
   "cell_type": "code",
   "execution_count": null,
   "metadata": {},
   "outputs": [
    {
     "name": "stdout",
     "output_type": "stream",
     "text": [
      "WARNING:tensorflow:From /Users/jojo/opt/anaconda3/lib/python3.7/site-packages/tensorflow/python/ops/resource_variable_ops.py:1666: calling BaseResourceVariable.__init__ (from tensorflow.python.ops.resource_variable_ops) with constraint is deprecated and will be removed in a future version.\n",
      "Instructions for updating:\n",
      "If using Keras pass *_constraint arguments to layers.\n"
     ]
    }
   ],
   "source": [
    "metric = Metric(\"model/prediction.npy\", [\"negative\", \"Unknown\", \"positive\"])\n",
    "model = Model_Final()"
   ]
  },
  {
   "cell_type": "code",
   "execution_count": null,
   "metadata": {},
   "outputs": [],
   "source": [
    "metric.show_metrics()"
   ]
  },
  {
   "cell_type": "code",
   "execution_count": null,
   "metadata": {},
   "outputs": [],
   "source": [
    "img_file = \"imgs/\" + \"1.png\"\n",
    "model.get_transformed_image(img_file)\n",
    "score_pred = model.predict(img_file)[0][0]\n",
    "label_pred = metric.get_label(score_pred)\n",
    "print(\"score: {:.3f}, prediction: {}\".format(score_pred, label_pred))"
   ]
  },
  {
   "cell_type": "code",
   "execution_count": null,
   "metadata": {},
   "outputs": [],
   "source": [
    "img_file = \"imgs/\" + \"b4.jpeg\"\n",
    "model.get_transformed_image(img_file)\n",
    "score_pred = model.predict(img_file)[0][0]\n",
    "label_pred = metric.get_label(score_pred)\n",
    "print(\"score: {:.3f}, prediction: {}\".format(score_pred, label_pred))"
   ]
  },
  {
   "cell_type": "code",
   "execution_count": null,
   "metadata": {},
   "outputs": [],
   "source": [
    "img_file = \"imgs/\" + \"sunrise.jpg\"\n",
    "model.get_transformed_image(img_file)\n",
    "score_pred = model.predict(img_file)[0][0]\n",
    "label_pred = metric.get_label(score_pred)\n",
    "print(\"score: {:.3f}, prediction: {}\".format(score_pred, label_pred))"
   ]
  },
  {
   "cell_type": "code",
   "execution_count": null,
   "metadata": {},
   "outputs": [],
   "source": []
  }
 ],
 "metadata": {
  "kernelspec": {
   "display_name": "Python 3",
   "language": "python",
   "name": "python3"
  },
  "language_info": {
   "codemirror_mode": {
    "name": "ipython",
    "version": 3
   },
   "file_extension": ".py",
   "mimetype": "text/x-python",
   "name": "python",
   "nbconvert_exporter": "python",
   "pygments_lexer": "ipython3",
   "version": "3.7.6"
  }
 },
 "nbformat": 4,
 "nbformat_minor": 2
}
