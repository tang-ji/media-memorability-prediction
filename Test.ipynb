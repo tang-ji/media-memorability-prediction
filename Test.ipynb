{
 "cells": [
  {
   "cell_type": "code",
   "execution_count": 2,
   "metadata": {},
   "outputs": [],
   "source": [
    "from src.extract_frames import *"
   ]
  },
  {
   "cell_type": "code",
   "execution_count": 3,
   "metadata": {},
   "outputs": [
    {
     "name": "stdout",
     "output_type": "stream",
     "text": [
      "Reading file: video/dyson1.mp4\n",
      "Reading file: video/dyson2.mp4\n",
      "Reading file: video/dyson3.mp4\n"
     ]
    }
   ],
   "source": [
    "video_list = [\"dyson1.mp4\", \"dyson2.mp4\", \"dyson3.mp4\"]\n",
    "store_frames(video_list, \"video/\", \"frame/\")"
   ]
  },
  {
   "cell_type": "code",
   "execution_count": 28,
   "metadata": {},
   "outputs": [],
   "source": [
    "from keras.applications import ResNet152\n",
    "from keras.applications import imagenet_utils\n",
    "from keras.preprocessing.image import img_to_array\n",
    "from keras.preprocessing.image import load_img\n",
    "\n",
    "import progressbar\n",
    "import h5py\n",
    "import numpy as np"
   ]
  },
  {
   "cell_type": "code",
   "execution_count": 31,
   "metadata": {},
   "outputs": [],
   "source": [
    "# Image Size to input the model\n",
    "IMG_SIZE=(224, 224)\n",
    "# frame numbers\n",
    "FRAME_NUMBERS = [1, 25, 50, 75, 100, 125, 150, 175]\n",
    "\n",
    "def get_features_from_last_layer_pretrained_nn(videos, frames_path):\n",
    "    model = ResNet152(weights=\"imagenet\", include_top=False, pooling='avg')\n",
    "    size = 2048\n",
    "    h5_filename = '{}/{}.h5'.format(\"feature\", \"ResNet152\")\n",
    "\n",
    "    if not os.path.isfile(h5_filename):\n",
    "\n",
    "        print('[INFO] Creating features for pre-trained model...')\n",
    "\n",
    "        # images\n",
    "        image_paths = [\n",
    "            os.path.join(frames_path, video.split('.webm')[0] + '-frame-{}.jpg'.format(frame))\n",
    "            for video in videos\n",
    "            for frame in FRAME_NUMBERS\n",
    "        ]\n",
    "\n",
    "        # initialize the progress bar\n",
    "        widgets = [\"Extracting Features: \", progressbar.Percentage(), \" \", progressbar.Bar(), \" \", progressbar.ETA()]\n",
    "        pbar = progressbar.ProgressBar(maxval=len(image_paths), widgets=widgets).start()\n",
    "\n",
    "        batch_size = 32\n",
    "\n",
    "        with h5py.File(h5_filename, 'w') as h5f:\n",
    "\n",
    "            # loop over the images in batches\n",
    "            for i in np.arange(0, len(image_paths), batch_size):\n",
    "\n",
    "                batch_paths = image_paths[i:i + batch_size]\n",
    "                batch_images = []\n",
    "\n",
    "                # loop over the images in the current batch\n",
    "                for image_path in batch_paths:\n",
    "\n",
    "                    # load the input image using the Keras helper utility\n",
    "                    # while ensuring the image is resized to 224x224 pixels\n",
    "                    image = load_img(image_path, target_size=IMG_SIZE)\n",
    "                    image = img_to_array(image)\n",
    "                    # preprocess the image by (1) expanding the dimensions and\n",
    "                    # (2) subtracting the mean RGB pixel intensity from the\n",
    "                    # ImageNet dataset\n",
    "                    image = np.expand_dims(image, axis=0)\n",
    "                    image = imagenet_utils.preprocess_input(image)\n",
    "                    batch_images.append(image)\n",
    "\n",
    "                # pass the images through the network and use the outputs as\n",
    "                # our actual features\n",
    "                batch_images = np.vstack(batch_images)\n",
    "                features = model.predict(batch_images, batch_size=batch_size)\n",
    "                # reshape the features so that each image is represented by\n",
    "                # a flattened feature vector of the ‘MaxPooling2D‘ outputs\n",
    "                features = features.reshape((features.shape[0], size))\n",
    "                print(features.shape)\n",
    "\n",
    "                # add features per image\n",
    "                for feature_index, batch_index in zip(np.arange(0, features.shape[0], len(FRAME_NUMBERS)),\n",
    "                                                    np.arange(i, i + len(FRAME_NUMBERS))):\n",
    "                    # Concatenate all features per frame to one\n",
    "                    image_features = np.concatenate( features[feature_index:feature_index + len(FRAME_NUMBERS)] )\n",
    "                    # grab the video corresponding to these frames\n",
    "                    image_index = batch_index // len(FRAME_NUMBERS) + batch_index % len(FRAME_NUMBERS)\n",
    "                    video_name = videos[image_index]\n",
    "                    print(video_name)\n",
    "                    # save it!\n",
    "                    h5f.create_dataset(video_name, data=image_features)\n",
    "\n",
    "                # update the progress bar\n",
    "                pbar.update(i)\n",
    "\n",
    "        # progress bar\n",
    "        pbar.finish()\n",
    "\n",
    "    # Reading file\n",
    "\n",
    "    print('[INFO] Reading features from {}...'.format(h5_filename))\n",
    "\n",
    "    with h5py.File(h5_filename) as h5f:\n",
    "\n",
    "        features = np.array([ h5f[video_name][:] for video_name in videos ])\n",
    "\n",
    "    return features"
   ]
  },
  {
   "cell_type": "code",
   "execution_count": 32,
   "metadata": {},
   "outputs": [
    {
     "name": "stderr",
     "output_type": "stream",
     "text": [
      "\r",
      "                                                                               \r",
      "\r",
      "Extracting Features: N/A% |                                    | ETA:  --:--:--"
     ]
    },
    {
     "name": "stdout",
     "output_type": "stream",
     "text": [
      "[INFO] Creating features for pre-trained model...\n"
     ]
    },
    {
     "name": "stderr",
     "output_type": "stream",
     "text": [
      "Extracting Features: 100% |####################################| Time:  0:00:05\n"
     ]
    },
    {
     "name": "stdout",
     "output_type": "stream",
     "text": [
      "(24, 2048)\n",
      "dyson1.mp4\n",
      "dyson2.mp4\n",
      "dyson3.mp4\n",
      "[INFO] Reading features from feature/ResNet152.h5...\n"
     ]
    },
    {
     "name": "stderr",
     "output_type": "stream",
     "text": [
      "/Users/jojo/opt/anaconda3/lib/python3.7/site-packages/ipykernel_launcher.py:81: H5pyDeprecationWarning: The default file mode will change to 'r' (read-only) in h5py 3.0. To suppress this warning, pass the mode you need to h5py.File(), or set the global default h5.get_config().default_file_mode, or set the environment variable H5PY_DEFAULT_READONLY=1. Available modes are: 'r', 'r+', 'w', 'w-'/'x', 'a'. See the docs for details.\n"
     ]
    }
   ],
   "source": [
    "features = get_features_from_last_layer_pretrained_nn(video_list, \"frame/\")"
   ]
  },
  {
   "cell_type": "code",
   "execution_count": 36,
   "metadata": {},
   "outputs": [
    {
     "data": {
      "text/plain": [
       "(3, 16384)"
      ]
     },
     "execution_count": 36,
     "metadata": {},
     "output_type": "execute_result"
    }
   ],
   "source": [
    "features.shape"
   ]
  },
  {
   "cell_type": "code",
   "execution_count": null,
   "metadata": {},
   "outputs": [],
   "source": []
  }
 ],
 "metadata": {
  "kernelspec": {
   "display_name": "Python 3",
   "language": "python",
   "name": "python3"
  },
  "language_info": {
   "codemirror_mode": {
    "name": "ipython",
    "version": 3
   },
   "file_extension": ".py",
   "mimetype": "text/x-python",
   "name": "python",
   "nbconvert_exporter": "python",
   "pygments_lexer": "ipython3",
   "version": "3.7.6"
  }
 },
 "nbformat": 4,
 "nbformat_minor": 2
}
