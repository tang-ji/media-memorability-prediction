{
 "cells": [
  {
   "cell_type": "code",
   "execution_count": 5,
   "metadata": {},
   "outputs": [],
   "source": [
    "from keras.applications import ResNet152\n",
    "from keras.applications import imagenet_utils\n",
    "from keras.preprocessing.image import img_to_array\n",
    "from keras.preprocessing.image import load_img\n",
    "\n",
    "from sklearn.svm import SVR\n",
    "from sklearn.model_selection import GridSearchCV\n",
    "from scipy.stats import spearmanr\n",
    "from xgboost import XGBRegressor\n",
    "\n",
    "import progressbar\n",
    "import h5py\n",
    "import numpy as np"
   ]
  },
  {
   "cell_type": "markdown",
   "metadata": {},
   "source": [
    "## Generate Labels"
   ]
  },
  {
   "cell_type": "code",
   "execution_count": 40,
   "metadata": {},
   "outputs": [],
   "source": [
    "f_train = open(\"lamem/splits/train_1.txt\").readlines()\n",
    "f_test = open(\"lamem/splits/test_1.txt\").readlines()\n",
    "f_val = open(\"lamem/splits/val_1.txt\").readlines()\n",
    "\n",
    "X_train_list = [x[:12] for x in f_train]\n",
    "Y_train = np.array([float(x[13:21]) for x in f_train])\n",
    "\n",
    "X_test_list = [x[:12] for x in f_test]\n",
    "Y_test = np.array([float(x[13:21]) for x in f_test])\n",
    "\n",
    "X_val_list = [x[:12] for x in f_val]\n",
    "Y_val = np.array([float(x[13:21]) for x in f_val])"
   ]
  },
  {
   "cell_type": "code",
   "execution_count": 46,
   "metadata": {},
   "outputs": [],
   "source": [
    "with h5py.File(\"Y.h5\", \"w\") as h5f:\n",
    "    for i in range(len(Y_train)):\n",
    "        h5f.create_dataset(X_train_list[i], data=Y_train[i])\n",
    "    for i in range(len(Y_test)):\n",
    "        h5f.create_dataset(X_test_list[i], data=Y_test[i])\n",
    "    for i in range(len(Y_val)):\n",
    "        h5f.create_dataset(X_val_list[i], data=Y_val[i])"
   ]
  },
  {
   "cell_type": "code",
   "execution_count": 32,
   "metadata": {},
   "outputs": [
    {
     "name": "stderr",
     "output_type": "stream",
     "text": [
      "/Users/jojo/opt/anaconda3/lib/python3.7/site-packages/ipykernel_launcher.py:1: H5pyDeprecationWarning: The default file mode will change to 'r' (read-only) in h5py 3.0. To suppress this warning, pass the mode you need to h5py.File(), or set the global default h5.get_config().default_file_mode, or set the environment variable H5PY_DEFAULT_READONLY=1. Available modes are: 'r', 'r+', 'w', 'w-'/'x', 'a'. See the docs for details.\n",
      "  \"\"\"Entry point for launching an IPython kernel.\n"
     ]
    }
   ],
   "source": [
    "h5f = h5py.File(\"test_features.h5\")\n",
    "\n",
    "X_test_valide = [x in set(h5f.keys()) for x in X_test_list]\n",
    "X_train_list = [x for x, y in zip(X_test_list, X_test_valide) if y]\n",
    "Y_train = [x for x, y in zip(Y_test, X_test_valide) if y]"
   ]
  },
  {
   "cell_type": "markdown",
   "metadata": {},
   "source": [
    "## Load dataset"
   ]
  },
  {
   "cell_type": "code",
   "execution_count": 2,
   "metadata": {},
   "outputs": [
    {
     "name": "stderr",
     "output_type": "stream",
     "text": [
      "/Users/jojo/opt/anaconda3/lib/python3.7/site-packages/ipykernel_launcher.py:3: H5pyDeprecationWarning: The default file mode will change to 'r' (read-only) in h5py 3.0. To suppress this warning, pass the mode you need to h5py.File(), or set the global default h5.get_config().default_file_mode, or set the environment variable H5PY_DEFAULT_READONLY=1. Available modes are: 'r', 'r+', 'w', 'w-'/'x', 'a'. See the docs for details.\n",
      "  This is separate from the ipykernel package so we can avoid doing imports until\n",
      "/Users/jojo/opt/anaconda3/lib/python3.7/site-packages/ipykernel_launcher.py:5: H5pyDeprecationWarning: The default file mode will change to 'r' (read-only) in h5py 3.0. To suppress this warning, pass the mode you need to h5py.File(), or set the global default h5.get_config().default_file_mode, or set the environment variable H5PY_DEFAULT_READONLY=1. Available modes are: 'r', 'r+', 'w', 'w-'/'x', 'a'. See the docs for details.\n",
      "  \"\"\"\n",
      "/Users/jojo/opt/anaconda3/lib/python3.7/site-packages/ipykernel_launcher.py:6: H5pyDeprecationWarning: dataset.value has been deprecated. Use dataset[()] instead.\n",
      "  \n"
     ]
    }
   ],
   "source": [
    "# with h5py.File(\"train_features.h5\") as h5f:\n",
    "#     X_train = np.array([h5f[img][:] for img in X_train_list])\n",
    "h5f = h5py.File(\"test_features.h5\")\n",
    "X  = np.array([h5f[img][:] for img in list(h5f.keys())])\n",
    "h5f2 = h5py.File(\"Y.h5\")\n",
    "Y  = np.array([h5f2[img].value for img in list(h5f.keys())])"
   ]
  },
  {
   "cell_type": "code",
   "execution_count": 3,
   "metadata": {},
   "outputs": [
    {
     "data": {
      "text/plain": [
       "(7757, 2048)"
      ]
     },
     "execution_count": 3,
     "metadata": {},
     "output_type": "execute_result"
    }
   ],
   "source": [
    "X.shape"
   ]
  },
  {
   "cell_type": "markdown",
   "metadata": {},
   "source": [
    "## Prediction"
   ]
  },
  {
   "cell_type": "markdown",
   "metadata": {},
   "source": [
    "### XGBoost regressor"
   ]
  },
  {
   "cell_type": "code",
   "execution_count": 33,
   "metadata": {},
   "outputs": [],
   "source": [
    "from sklearn.metrics import make_scorer\n",
    "def my_custom_loss_func(y_true, y_pred):\n",
    "    c, p = spearmanr(y_true, y_pred)\n",
    "    return c\n",
    "score = make_scorer(my_custom_loss_func, greater_is_better=True)"
   ]
  },
  {
   "cell_type": "code",
   "execution_count": 34,
   "metadata": {},
   "outputs": [],
   "source": [
    "ALGORITHMS = {\n",
    "        'model': XGBRegressor(n_jobs=-1),\n",
    "        'params': {\n",
    "            \"n_estimators\": [100, 150, 200], # 'poly', 'sigmoid'\n",
    "            \"max_depth\": [4, 5, 6],\n",
    "            \"eta\": [0.01],\n",
    "        }\n",
    "    }\n",
    "CV = 3\n",
    "model = GridSearchCV(\n",
    "        ALGORITHMS['model'],\n",
    "        ALGORITHMS['params'],\n",
    "        cv=CV,\n",
    "        scoring=score,\n",
    "        n_jobs=-1,\n",
    "        )"
   ]
  },
  {
   "cell_type": "code",
   "execution_count": null,
   "metadata": {},
   "outputs": [],
   "source": [
    "model.fit(X[:7000], Y[:7000])"
   ]
  },
  {
   "cell_type": "code",
   "execution_count": null,
   "metadata": {},
   "outputs": [],
   "source": [
    "pred = model.predict(X[7000:])\n",
    "c, p = spearmanr(Y[7000:], pred)\n",
    "\n",
    "print(\"Spearmanr Result: correlation: {:.5f}, p-value: {}\".format(c, p))"
   ]
  },
  {
   "cell_type": "markdown",
   "metadata": {},
   "source": [
    "### SVM"
   ]
  },
  {
   "cell_type": "code",
   "execution_count": 65,
   "metadata": {},
   "outputs": [],
   "source": [
    "from sklearn.svm import SVR\n",
    "from sklearn.model_selection import GridSearchCV\n",
    "ALGORITHMS = {\n",
    "        'model': SVR(gamma='scale'),\n",
    "        'params': {\n",
    "            \"kernel\": ['rbf' ], # 'poly', 'sigmoid'\n",
    "            \"C\": [0.1, 1.0],\n",
    "            \"epsilon\": [0.001, 1.0],\n",
    "        }\n",
    "    }\n",
    "\n",
    "CV = 3\n",
    "model = GridSearchCV(\n",
    "            ALGORITHMS['model'],\n",
    "            ALGORITHMS['params'],\n",
    "            cv=CV,\n",
    "            n_jobs=-1,\n",
    "        )"
   ]
  },
  {
   "cell_type": "code",
   "execution_count": 67,
   "metadata": {},
   "outputs": [
    {
     "data": {
      "text/plain": [
       "GridSearchCV(cv=3, error_score='raise-deprecating',\n",
       "             estimator=SVR(C=1.0, cache_size=200, coef0=0.0, degree=3,\n",
       "                           epsilon=0.1, gamma='scale', kernel='rbf',\n",
       "                           max_iter=-1, shrinking=True, tol=0.001,\n",
       "                           verbose=False),\n",
       "             iid='warn', n_jobs=-1,\n",
       "             param_grid={'C': [0.1, 1.0], 'epsilon': [0.001, 1.0],\n",
       "                         'kernel': ['rbf']},\n",
       "             pre_dispatch='2*n_jobs', refit=True, return_train_score=False,\n",
       "             scoring=None, verbose=0)"
      ]
     },
     "execution_count": 67,
     "metadata": {},
     "output_type": "execute_result"
    }
   ],
   "source": [
    "model.fit(X[:7000], Y[:7000])"
   ]
  },
  {
   "cell_type": "code",
   "execution_count": 79,
   "metadata": {},
   "outputs": [
    {
     "data": {
      "text/plain": [
       "SpearmanrResult(correlation=0.6245817568289069, pvalue=3.988759621179673e-83)"
      ]
     },
     "execution_count": 79,
     "metadata": {},
     "output_type": "execute_result"
    }
   ],
   "source": [
    "from scipy.stats import spearmanr\n",
    "spearmanr(Y[7000:], pred)"
   ]
  },
  {
   "cell_type": "code",
   "execution_count": 31,
   "metadata": {},
   "outputs": [
    {
     "name": "stderr",
     "output_type": "stream",
     "text": [
      "/Users/jojo/opt/anaconda3/lib/python3.7/site-packages/ipykernel_launcher.py:4: H5pyDeprecationWarning: dataset.value has been deprecated. Use dataset[()] instead.\n",
      "  after removing the cwd from sys.path.\n"
     ]
    }
   ],
   "source": [
    "with h5py.File(\"test_features_new.h5\", 'w') as h5f2:\n",
    "    for i in set(h5f.keys()):\n",
    "        try:\n",
    "            h5f2.create_dataset(i, data=h5f[i].value)\n",
    "        except:\n",
    "            pass"
   ]
  },
  {
   "cell_type": "code",
   "execution_count": null,
   "metadata": {},
   "outputs": [],
   "source": []
  }
 ],
 "metadata": {
  "kernelspec": {
   "display_name": "Python 3",
   "language": "python",
   "name": "python3"
  },
  "language_info": {
   "codemirror_mode": {
    "name": "ipython",
    "version": 3
   },
   "file_extension": ".py",
   "mimetype": "text/x-python",
   "name": "python",
   "nbconvert_exporter": "python",
   "pygments_lexer": "ipython3",
   "version": "3.7.6"
  }
 },
 "nbformat": 4,
 "nbformat_minor": 2
}
