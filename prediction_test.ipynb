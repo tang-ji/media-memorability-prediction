{
 "cells": [
  {
   "cell_type": "code",
   "execution_count": 2,
   "metadata": {},
   "outputs": [],
   "source": [
    "import tensorflow as tf\n",
    "tf.compat.v1.disable_eager_execution()\n",
    "tf.compat.v1.experimental.output_all_intermediates(True)\n",
    "\n",
    "from keras.applications import ResNet152\n",
    "from keras.applications import imagenet_utils\n",
    "from keras.preprocessing.image import img_to_array\n",
    "from keras.preprocessing.image import load_img\n",
    "from keras import backend as K\n",
    "from keras.models import load_model\n",
    "\n",
    "from sklearn.svm import SVR\n",
    "from sklearn.metrics import make_scorer\n",
    "from sklearn.model_selection import GridSearchCV\n",
    "from sklearn.model_selection import train_test_split\n",
    "from scipy.stats import spearmanr\n",
    "from xgboost import XGBRegressor\n",
    "\n",
    "import progressbar\n",
    "import h5py\n",
    "import numpy as np\n",
    "import os\n",
    "import matplotlib.pyplot as plt\n",
    "import cv2"
   ]
  },
  {
   "cell_type": "markdown",
   "metadata": {},
   "source": [
    "## Generate Labels"
   ]
  },
  {
   "cell_type": "code",
   "execution_count": 2,
   "metadata": {},
   "outputs": [],
   "source": [
    "f_train = open(\"lamem/splits/train_1.txt\").readlines()\n",
    "f_test = open(\"lamem/splits/test_1.txt\").readlines()\n",
    "f_val = open(\"lamem/splits/val_1.txt\").readlines()\n",
    "\n",
    "X_train_list = [x[:12] for x in f_train]\n",
    "Y_train = np.array([float(x[13:21]) for x in f_train])\n",
    "\n",
    "X_test_list = [x[:12] for x in f_test]\n",
    "Y_test = np.array([float(x[13:21]) for x in f_test])\n",
    "\n",
    "X_val_list = [x[:12] for x in f_val]\n",
    "Y_val = np.array([float(x[13:21]) for x in f_val])"
   ]
  },
  {
   "cell_type": "code",
   "execution_count": 46,
   "metadata": {},
   "outputs": [],
   "source": [
    "with h5py.File(\"Y.h5\", \"w\") as h5f:\n",
    "    for i in range(len(Y_train)):\n",
    "        h5f.create_dataset(X_train_list[i], data=Y_train[i])\n",
    "    for i in range(len(Y_test)):\n",
    "        h5f.create_dataset(X_test_list[i], data=Y_test[i])\n",
    "    for i in range(len(Y_val)):\n",
    "        h5f.create_dataset(X_val_list[i], data=Y_val[i])"
   ]
  },
  {
   "cell_type": "code",
   "execution_count": 32,
   "metadata": {},
   "outputs": [
    {
     "name": "stderr",
     "output_type": "stream",
     "text": [
      "/Users/jojo/opt/anaconda3/lib/python3.7/site-packages/ipykernel_launcher.py:1: H5pyDeprecationWarning: The default file mode will change to 'r' (read-only) in h5py 3.0. To suppress this warning, pass the mode you need to h5py.File(), or set the global default h5.get_config().default_file_mode, or set the environment variable H5PY_DEFAULT_READONLY=1. Available modes are: 'r', 'r+', 'w', 'w-'/'x', 'a'. See the docs for details.\n",
      "  \"\"\"Entry point for launching an IPython kernel.\n"
     ]
    }
   ],
   "source": [
    "h5f = h5py.File(\"test_features.h5\")\n",
    "\n",
    "X_test_valide = [x in set(h5f.keys()) for x in X_test_list]\n",
    "X_train_list = [x for x, y in zip(X_test_list, X_test_valide) if y]\n",
    "Y_train = [x for x, y in zip(Y_test, X_test_valide) if y]"
   ]
  },
  {
   "cell_type": "markdown",
   "metadata": {},
   "source": [
    "## Load dataset"
   ]
  },
  {
   "cell_type": "code",
   "execution_count": 3,
   "metadata": {},
   "outputs": [],
   "source": [
    "X = np.load(\"lamem/X.npy\")\n",
    "Y = np.load(\"lamem/Y.npy\")"
   ]
  },
  {
   "cell_type": "code",
   "execution_count": 4,
   "metadata": {},
   "outputs": [
    {
     "name": "stdout",
     "output_type": "stream",
     "text": [
      "(58741, 2048) (58741,)\n"
     ]
    }
   ],
   "source": [
    "print(X.shape, Y.shape)"
   ]
  },
  {
   "cell_type": "code",
   "execution_count": 14,
   "metadata": {},
   "outputs": [],
   "source": [
    "train_set, test_set = train_test_split(range(len(X)), test_size=0.1)"
   ]
  },
  {
   "cell_type": "markdown",
   "metadata": {},
   "source": [
    "## Prediction"
   ]
  },
  {
   "cell_type": "markdown",
   "metadata": {},
   "source": [
    "### SVM"
   ]
  },
  {
   "cell_type": "code",
   "execution_count": 32,
   "metadata": {},
   "outputs": [],
   "source": [
    "def my_custom_loss_func(y_true, y_pred):\n",
    "    c, p = spearmanr(y_true, y_pred)\n",
    "    return c\n",
    "score = make_scorer(my_custom_loss_func, greater_is_better=True)"
   ]
  },
  {
   "cell_type": "code",
   "execution_count": 33,
   "metadata": {},
   "outputs": [],
   "source": [
    "from sklearn.svm import SVR, LinearSVR\n",
    "from sklearn.model_selection import GridSearchCV\n",
    "\n",
    "ALGORITHMS = {\n",
    "        'model': SVR(gamma='scale'),\n",
    "        'params': {\n",
    "            \"kernel\": ['rbf', 'sigmoid'], # 'poly', 'sigmoid'\n",
    "            \"C\": [0.1, 1.0, 10.0],\n",
    "            \"epsilon\": [0.001, 1.0],\n",
    "        }\n",
    "    }\n",
    "\n",
    "CV = 3\n",
    "model = GridSearchCV(\n",
    "        ALGORITHMS['model'],\n",
    "        ALGORITHMS['params'],\n",
    "        cv=CV,\n",
    "        scoring=score,\n",
    "        n_jobs=-1,\n",
    "        )"
   ]
  },
  {
   "cell_type": "code",
   "execution_count": 37,
   "metadata": {},
   "outputs": [],
   "source": [
    "model = LinearSVR(C=1.0, epsilon=0.1)"
   ]
  },
  {
   "cell_type": "code",
   "execution_count": 38,
   "metadata": {
    "scrolled": true
   },
   "outputs": [
    {
     "name": "stderr",
     "output_type": "stream",
     "text": [
      "/Users/jojo/opt/anaconda3/lib/python3.7/site-packages/sklearn/svm/base.py:929: ConvergenceWarning: Liblinear failed to converge, increase the number of iterations.\n",
      "  \"the number of iterations.\", ConvergenceWarning)\n"
     ]
    },
    {
     "data": {
      "text/plain": [
       "LinearSVR(C=1.0, dual=True, epsilon=0.1, fit_intercept=True,\n",
       "          intercept_scaling=1.0, loss='epsilon_insensitive', max_iter=1000,\n",
       "          random_state=None, tol=0.0001, verbose=0)"
      ]
     },
     "execution_count": 38,
     "metadata": {},
     "output_type": "execute_result"
    }
   ],
   "source": [
    "model.fit(X[train_set], Y[train_set])"
   ]
  },
  {
   "cell_type": "code",
   "execution_count": 39,
   "metadata": {},
   "outputs": [
    {
     "name": "stdout",
     "output_type": "stream",
     "text": [
      "Spearmanr Result: correlation: 0.58618, p-value: 0.0\n"
     ]
    }
   ],
   "source": [
    "pred = model.predict(X[test_set])\n",
    "c, p = spearmanr(Y[test_set], pred)\n",
    "\n",
    "print(\"Spearmanr Result: correlation: {:.5f}, p-value: {}\".format(c, p))"
   ]
  },
  {
   "cell_type": "markdown",
   "metadata": {},
   "source": [
    "### Neural network"
   ]
  },
  {
   "cell_type": "code",
   "execution_count": 19,
   "metadata": {},
   "outputs": [],
   "source": [
    "from keras.layers import *\n",
    "from keras.models import Model\n",
    "from keras.layers.advanced_activations import LeakyReLU\n",
    "from keras.backend import expand_dims\n",
    "from keras.losses import MeanSquaredLogarithmicError\n",
    "import tensorflow as tf\n",
    "from tensorflow.keras.losses import MSE\n",
    "\n",
    "def correlation_loss(x, y):    \n",
    "    mx = tf.math.reduce_mean(x)\n",
    "    my = tf.math.reduce_mean(y)\n",
    "    xm, ym = x-mx, y-my\n",
    "    r_num = tf.math.reduce_mean(tf.multiply(xm,ym))        \n",
    "    r_den = tf.math.reduce_std(xm) * tf.math.reduce_std(ym)\n",
    "    return 2*MSE(x,y) - r_num / r_den"
   ]
  },
  {
   "cell_type": "code",
   "execution_count": 180,
   "metadata": {},
   "outputs": [],
   "source": [
    "input_feature = Input(shape=(2048,), name='Input')\n",
    "x = Dense(512, activation='relu')(input_feature)\n",
    "x = Dropout(0.5)(x)\n",
    "x = Dense(256, activation='relu')(x)\n",
    "x = Dropout(0.5)(x)\n",
    "x = Dense(1, activation='sigmoid')(x)"
   ]
  },
  {
   "cell_type": "code",
   "execution_count": 181,
   "metadata": {},
   "outputs": [],
   "source": [
    "model = Model(input_feature, x)\n",
    "model.compile(optimizer='adam', loss=correlation_loss)"
   ]
  },
  {
   "cell_type": "code",
   "execution_count": 182,
   "metadata": {},
   "outputs": [
    {
     "name": "stdout",
     "output_type": "stream",
     "text": [
      "Epoch 1/10\n",
      "186/186 [==============================] - 2s 9ms/step - loss: -0.4153 - val_loss: -0.6119\n",
      "Epoch 2/10\n",
      "186/186 [==============================] - 2s 8ms/step - loss: -0.5868 - val_loss: -0.6335\n",
      "Epoch 3/10\n",
      "186/186 [==============================] - 2s 10ms/step - loss: -0.6162 - val_loss: -0.6373\n",
      "Epoch 4/10\n",
      "186/186 [==============================] - 2s 9ms/step - loss: -0.6346 - val_loss: -0.6415\n",
      "Epoch 5/10\n",
      "186/186 [==============================] - 2s 9ms/step - loss: -0.6473 - val_loss: -0.6485\n",
      "Epoch 6/10\n",
      "186/186 [==============================] - 2s 9ms/step - loss: -0.6549 - val_loss: -0.6472\n",
      "Epoch 7/10\n",
      "186/186 [==============================] - 2s 9ms/step - loss: -0.6641 - val_loss: -0.6484\n",
      "Epoch 8/10\n",
      "186/186 [==============================] - 2s 9ms/step - loss: -0.6694 - val_loss: -0.6498\n",
      "Epoch 9/10\n",
      "186/186 [==============================] - 2s 9ms/step - loss: -0.6806 - val_loss: -0.6524\n",
      "Epoch 10/10\n",
      "186/186 [==============================] - 2s 9ms/step - loss: -0.6842 - val_loss: -0.6530\n"
     ]
    },
    {
     "data": {
      "text/plain": [
       "<tensorflow.python.keras.callbacks.History at 0x7ff690590f50>"
      ]
     },
     "execution_count": 182,
     "metadata": {},
     "output_type": "execute_result"
    }
   ],
   "source": [
    "model.fit(X[train_set], Y[train_set], batch_size=256, epochs=10, validation_data=(X[test_set], Y[test_set]))"
   ]
  },
  {
   "cell_type": "code",
   "execution_count": 183,
   "metadata": {},
   "outputs": [
    {
     "name": "stdout",
     "output_type": "stream",
     "text": [
      "Spearmanr Result: correlation: 0.67365, p-value: 0.0\n"
     ]
    }
   ],
   "source": [
    "pred = model.predict(X[test_set])\n",
    "c, p = spearmanr(Y[test_set], pred)\n",
    "\n",
    "print(\"Spearmanr Result: correlation: {:.5f}, p-value: {}\".format(c, p))"
   ]
  },
  {
   "cell_type": "code",
   "execution_count": 184,
   "metadata": {},
   "outputs": [
    {
     "data": {
      "text/plain": [
       "[<matplotlib.lines.Line2D at 0x7ff69488f050>]"
      ]
     },
     "execution_count": 184,
     "metadata": {},
     "output_type": "execute_result"
    },
    {
     "data": {
      "image/png": "[encoded data removed]",
      "text/plain": [
       "<Figure size 432x288 with 1 Axes>"
      ]
     },
     "metadata": {
      "needs_background": "light"
     },
     "output_type": "display_data"
    }
   ],
   "source": [
    "import matplotlib.pyplot as plt\n",
    "\n",
    "c = list(range(0, len(Y[test_set]), 5))\n",
    "index = np.argsort(Y[test_set])[c]\n",
    "Y_pred = model.predict(X[test_set])\n",
    "\n",
    "plt.plot(c, Y[test_set][index])\n",
    "plt.plot(c, Y_pred[index], '.')"
   ]
  },
  {
   "cell_type": "markdown",
   "metadata": {},
   "source": [
    "## Nomalized label"
   ]
  },
  {
   "cell_type": "code",
   "execution_count": 20,
   "metadata": {},
   "outputs": [],
   "source": [
    "# Y_new = (Y-np.mean(Y))/np.std(Y)\n",
    "Y_new = np.clip((Y-np.mean(Y))/np.std(Y), -1.0, 1.0)\n",
    "# Y_new = (Y-np.min(Y))/(np.max(Y)-np.min(Y))"
   ]
  },
  {
   "cell_type": "code",
   "execution_count": 16,
   "metadata": {},
   "outputs": [
    {
     "data": {
      "text/plain": [
       "[<matplotlib.lines.Line2D at 0x7f9d1e404f50>]"
      ]
     },
     "execution_count": 16,
     "metadata": {},
     "output_type": "execute_result"
    },
    {
     "data": {
      "image/png": "[encoded data removed]",
      "text/plain": [
       "<Figure size 432x288 with 1 Axes>"
      ]
     },
     "metadata": {
      "needs_background": "light"
     },
     "output_type": "display_data"
    }
   ],
   "source": [
    "plt.plot(Y_new[test_set], \".\")"
   ]
  },
  {
   "cell_type": "code",
   "execution_count": 21,
   "metadata": {},
   "outputs": [],
   "source": [
    "def correlation_loss(x, y):    \n",
    "    mx = tf.math.reduce_mean(x)\n",
    "    my = tf.math.reduce_mean(y)\n",
    "    xm, ym = x-mx, y-my\n",
    "    r_num = tf.math.reduce_mean(tf.multiply(xm,ym))        \n",
    "    r_den = tf.math.reduce_std(xm) * tf.math.reduce_std(ym)\n",
    "    return 2*MSE(x,y) - r_num / r_den"
   ]
  },
  {
   "cell_type": "code",
   "execution_count": 34,
   "metadata": {},
   "outputs": [],
   "source": [
    "activation = \"tanh\"\n",
    "\n",
    "input_feature = Input(shape=(2048,), name='Input')\n",
    "x = Dense(512, activation=\"relu\")(input_feature)\n",
    "x = Dropout(0.5)(x)\n",
    "x = Dense(256, activation=\"relu\")(x)\n",
    "x = Dropout(0.5)(x)\n",
    "x = Dense(128, activation=\"relu\")(x)\n",
    "x = Dropout(0.5)(x)\n",
    "x = Dense(32, activation=\"relu\")(x)\n",
    "x = Dense(1, activation=activation)(x)"
   ]
  },
  {
   "cell_type": "code",
   "execution_count": 35,
   "metadata": {},
   "outputs": [],
   "source": [
    "model = Model(input_feature, x)\n",
    "model.compile(optimizer='adam', loss=\"mse\")"
   ]
  },
  {
   "cell_type": "code",
   "execution_count": 39,
   "metadata": {},
   "outputs": [
    {
     "name": "stdout",
     "output_type": "stream",
     "text": [
      "Train on 52866 samples, validate on 5875 samples\n",
      "Epoch 1/10\n",
      "52866/52866 [==============================] - 4s 84us/sample - loss: 0.2788 - val_loss: 0.3097\n",
      "Epoch 2/10\n",
      "52866/52866 [==============================] - 4s 74us/sample - loss: 0.2743 - val_loss: 0.3053\n",
      "Epoch 3/10\n",
      "52866/52866 [==============================] - 4s 77us/sample - loss: 0.2740 - val_loss: 0.3063\n",
      "Epoch 4/10\n",
      "52866/52866 [==============================] - 4s 81us/sample - loss: 0.2676 - val_loss: 0.3095\n",
      "Epoch 5/10\n",
      "52866/52866 [==============================] - 4s 81us/sample - loss: 0.2641 - val_loss: 0.3222\n",
      "Epoch 6/10\n",
      "52866/52866 [==============================] - 4s 78us/sample - loss: 0.2597 - val_loss: 0.3208\n",
      "Epoch 7/10\n",
      "52866/52866 [==============================] - 4s 80us/sample - loss: 0.2597 - val_loss: 0.3091\n",
      "Epoch 8/10\n",
      "52866/52866 [==============================] - 4s 79us/sample - loss: 0.2523 - val_loss: 0.3146\n",
      "Epoch 9/10\n",
      "52866/52866 [==============================] - 4s 80us/sample - loss: 0.2480 - val_loss: 0.3137\n",
      "Epoch 10/10\n",
      "52866/52866 [==============================] - 4s 79us/sample - loss: 0.2443 - val_loss: 0.3168\n"
     ]
    },
    {
     "data": {
      "text/plain": [
       "<tensorflow.python.keras.callbacks.History at 0x7f9c81faa550>"
      ]
     },
     "execution_count": 39,
     "metadata": {},
     "output_type": "execute_result"
    }
   ],
   "source": [
    "model.fit(X[train_set], Y_new[train_set], batch_size=128, epochs=10, validation_data=(X[test_set], Y_new[test_set]))"
   ]
  },
  {
   "cell_type": "code",
   "execution_count": 52,
   "metadata": {},
   "outputs": [
    {
     "data": {
      "text/plain": [
       "'2.4.3'"
      ]
     },
     "execution_count": 52,
     "metadata": {},
     "output_type": "execute_result"
    }
   ],
   "source": [
    "import keras\n",
    "keras.__version__"
   ]
  },
  {
   "cell_type": "code",
   "execution_count": 43,
   "metadata": {},
   "outputs": [
    {
     "name": "stdout",
     "output_type": "stream",
     "text": [
      "INFO:tensorflow:Assets written to: model/assets\n"
     ]
    }
   ],
   "source": [
    "model.save(\"model\")"
   ]
  },
  {
   "cell_type": "code",
   "execution_count": 40,
   "metadata": {},
   "outputs": [
    {
     "name": "stdout",
     "output_type": "stream",
     "text": [
      "Spearmanr Result: correlation: 0.66630, p-value: 0.0\n"
     ]
    }
   ],
   "source": [
    "pred = model.predict(X[test_set])\n",
    "c, p = spearmanr(Y_new[test_set], pred)\n",
    "\n",
    "print(\"Spearmanr Result: correlation: {:.5f}, p-value: {}\".format(c, p))"
   ]
  },
  {
   "cell_type": "code",
   "execution_count": 41,
   "metadata": {},
   "outputs": [
    {
     "data": {
      "text/plain": [
       "[<matplotlib.lines.Line2D at 0x7f9cb2336b10>]"
      ]
     },
     "execution_count": 41,
     "metadata": {},
     "output_type": "execute_result"
    },
    {
     "data": {
      "image/png": "[encoded data removed]",
      "text/plain": [
       "<Figure size 432x288 with 1 Axes>"
      ]
     },
     "metadata": {
      "needs_background": "light"
     },
     "output_type": "display_data"
    }
   ],
   "source": [
    "import matplotlib.pyplot as plt\n",
    "\n",
    "c = list(range(0, len(Y_new[test_set]), 5))\n",
    "index = np.argsort(Y_new[test_set])[c]\n",
    "Y_new_pred = model.predict(X[test_set])\n",
    "plt.plot(c, Y_new[test_set][index])\n",
    "plt.plot(c, Y_new_pred[index], '.')"
   ]
  },
  {
   "cell_type": "code",
   "execution_count": 128,
   "metadata": {},
   "outputs": [
    {
     "data": {
      "text/plain": [
       "871"
      ]
     },
     "execution_count": 128,
     "metadata": {},
     "output_type": "execute_result"
    }
   ],
   "source": [
    "np.sum(Y_new[test_set]>1)"
   ]
  },
  {
   "cell_type": "code",
   "execution_count": 135,
   "metadata": {},
   "outputs": [
    {
     "data": {
      "text/plain": [
       "0.9960560047327943"
      ]
     },
     "execution_count": 135,
     "metadata": {},
     "output_type": "execute_result"
    }
   ],
   "source": [
    "np.sum(Y_pred[Y[test_set]>0.5]>0.5) / np.sum(Y[test_set]>0.5)"
   ]
  },
  {
   "cell_type": "code",
   "execution_count": 276,
   "metadata": {},
   "outputs": [],
   "source": [
    "IMG_SIZE=(224, 224)\n",
    "image = load_img(\"frame/dyson1.mp4-frame-200.jpg\", target_size=IMG_SIZE)\n",
    "image = img_to_array(image)\n",
    "image = np.expand_dims(image, axis=0)\n",
    "features = ResNet152(weights=\"imagenet\", include_top=False, pooling='avg').predict(image)"
   ]
  },
  {
   "cell_type": "code",
   "execution_count": 286,
   "metadata": {},
   "outputs": [
    {
     "data": {
      "text/plain": [
       "<tf.Tensor 'dense_112/Identity:0' shape=(None, 1) dtype=float32>"
      ]
     },
     "execution_count": 286,
     "metadata": {},
     "output_type": "execute_result"
    }
   ],
   "source": [
    "model.output"
   ]
  },
  {
   "cell_type": "code",
   "execution_count": 288,
   "metadata": {},
   "outputs": [],
   "source": [
    "input_layer = model.get_layer(\"Input\")\n",
    "score_output = model.output"
   ]
  },
  {
   "cell_type": "code",
   "execution_count": 293,
   "metadata": {},
   "outputs": [],
   "source": [
    "grads = K.gradients(score_output, input_layer.input)[0]"
   ]
  },
  {
   "cell_type": "code",
   "execution_count": 294,
   "metadata": {},
   "outputs": [
    {
     "data": {
      "text/plain": [
       "<tf.Tensor 'gradients_5/dense_108/MatMul_grad/MatMul:0' shape=(None, 2048) dtype=float32>"
      ]
     },
     "execution_count": 294,
     "metadata": {},
     "output_type": "execute_result"
    }
   ],
   "source": [
    "grads"
   ]
  },
  {
   "cell_type": "markdown",
   "metadata": {},
   "source": [
    "## Visualization"
   ]
  },
  {
   "cell_type": "code",
   "execution_count": 47,
   "metadata": {},
   "outputs": [],
   "source": [
    "class Model_Final:\n",
    "    def __init__(self, IMG_SIZE=(224, 224)):\n",
    "        self.model_res = ResNet152(weights=\"imagenet\", include_top=False, pooling='avg')\n",
    "        self.IMG_SIZE = IMG_SIZE\n",
    "        input_layer = self.model_res.layers[0]\n",
    "        self.model = load_model(\"model\")\n",
    "        self.model_final = Model(self.model_res.input, self.model(self.model_res.output))\n",
    "        \n",
    "        image_output = self.model_final.output[:]\n",
    "        last_conv_layer = self.model_final.get_layer('conv5_block3_out')\n",
    "        grads = K.gradients(image_output, last_conv_layer.output)[0]\n",
    "        pooled_grads = K.mean(grads, axis=(0, 1, 2))\n",
    "        self.iterate = K.function([self.model_final.input], [pooled_grads, last_conv_layer.output[0]])\n",
    "        \n",
    "    def load_image(self, image_path):\n",
    "        image_original = load_img(image_path)\n",
    "        image = cv2.resize(image_original, self.IMG_SIZE)\n",
    "        image = img_to_array(image)\n",
    "        image = np.expand_dims(image, axis=0)\n",
    "        image = imagenet_utils.preprocess_input(image)\n",
    "        return image, image_original\n",
    "    \n",
    "    def get_heatmap(self, image, save=False):\n",
    "        pooled_grads_value, conv_layer_output_value = self.iterate([image])\n",
    "        for i in range(512):\n",
    "            conv_layer_output_value[:, :, i] *= pooled_grads_value[i]\n",
    "        heatmap = np.mean(conv_layer_output_value, axis=-1)\n",
    "        heatmap = np.maximum(heatmap, 0)\n",
    "        heatmap /= np.max(heatmap)\n",
    "        if save:\n",
    "            if not os.path.exists('figures/activation_maps/'):\n",
    "                os.makedirs('figures/activation_maps/')\n",
    "            plt.imsave('figures/activation_maps/{}_heatmap.png'.format(image_name), heatmap)\n",
    "        return heatmap\n",
    "    \n",
    "    def get_transformed_image(self, image_path, save=False):\n",
    "        image, image_original = self.load_image(image_path)\n",
    "        heatmap = self.get_heatmap(image, save=save)\n",
    "        heatmap = cv2.resize(heatmap, (image_original.shape[1], image_original.shape[0]))\n",
    "        heatmap = np.uint8(255 * heatmap)\n",
    "        heatmap = cv2.applyColorMap(heatmap, cv2.COLORMAP_JET)\n",
    "        superimposed_img = heatmap * 0.4 + image_original\n",
    "        if save:\n",
    "            cv2.imwrite('figures/activation_maps/{}_CAM.jpg'.format(image_name), superimposed_img)\n",
    "        return superimposed_img"
   ]
  },
  {
   "cell_type": "code",
   "execution_count": 48,
   "metadata": {},
   "outputs": [],
   "source": [
    "m = Model_Final()"
   ]
  },
  {
   "cell_type": "code",
   "execution_count": null,
   "metadata": {},
   "outputs": [],
   "source": [
    "m.load_image(\"lamem/images/\" + X_test_list[0])"
   ]
  },
  {
   "cell_type": "code",
   "execution_count": null,
   "metadata": {},
   "outputs": [],
   "source": []
  }
 ],
 "metadata": {
  "kernelspec": {
   "display_name": "Python 3",
   "language": "python",
   "name": "python3"
  },
  "language_info": {
   "codemirror_mode": {
    "name": "ipython",
    "version": 3
   },
   "file_extension": ".py",
   "mimetype": "text/x-python",
   "name": "python",
   "nbconvert_exporter": "python",
   "pygments_lexer": "ipython3",
   "version": "3.7.6"
  }
 },
 "nbformat": 4,
 "nbformat_minor": 2
}
