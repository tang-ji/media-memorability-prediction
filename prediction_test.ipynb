{
 "cells": [
  {
   "cell_type": "code",
   "execution_count": 1,
   "metadata": {},
   "outputs": [],
   "source": [
    "from keras.applications import ResNet152\n",
    "from keras.applications import imagenet_utils\n",
    "from keras.preprocessing.image import img_to_array\n",
    "from keras.preprocessing.image import load_img\n",
    "\n",
    "from sklearn.svm import SVR\n",
    "from sklearn.metrics import make_scorer\n",
    "from sklearn.model_selection import GridSearchCV\n",
    "from sklearn.model_selection import train_test_split\n",
    "from scipy.stats import spearmanr\n",
    "from xgboost import XGBRegressor\n",
    "\n",
    "import progressbar\n",
    "import h5py\n",
    "import numpy as np"
   ]
  },
  {
   "cell_type": "markdown",
   "metadata": {},
   "source": [
    "## Generate Labels"
   ]
  },
  {
   "cell_type": "code",
   "execution_count": 8,
   "metadata": {},
   "outputs": [],
   "source": [
    "f_train = open(\"lamem/splits/train_1.txt\").readlines()\n",
    "f_test = open(\"lamem/splits/test_1.txt\").readlines()\n",
    "f_val = open(\"lamem/splits/val_1.txt\").readlines()\n",
    "\n",
    "X_train_list = [x[:12] for x in f_train]\n",
    "Y_train = np.array([float(x[13:21]) for x in f_train])\n",
    "\n",
    "X_test_list = [x[:12] for x in f_test]\n",
    "Y_test = np.array([float(x[13:21]) for x in f_test])\n",
    "\n",
    "X_val_list = [x[:12] for x in f_val]\n",
    "Y_val = np.array([float(x[13:21]) for x in f_val])"
   ]
  },
  {
   "cell_type": "code",
   "execution_count": 46,
   "metadata": {},
   "outputs": [],
   "source": [
    "with h5py.File(\"Y.h5\", \"w\") as h5f:\n",
    "    for i in range(len(Y_train)):\n",
    "        h5f.create_dataset(X_train_list[i], data=Y_train[i])\n",
    "    for i in range(len(Y_test)):\n",
    "        h5f.create_dataset(X_test_list[i], data=Y_test[i])\n",
    "    for i in range(len(Y_val)):\n",
    "        h5f.create_dataset(X_val_list[i], data=Y_val[i])"
   ]
  },
  {
   "cell_type": "code",
   "execution_count": 32,
   "metadata": {},
   "outputs": [
    {
     "name": "stderr",
     "output_type": "stream",
     "text": [
      "/Users/jojo/opt/anaconda3/lib/python3.7/site-packages/ipykernel_launcher.py:1: H5pyDeprecationWarning: The default file mode will change to 'r' (read-only) in h5py 3.0. To suppress this warning, pass the mode you need to h5py.File(), or set the global default h5.get_config().default_file_mode, or set the environment variable H5PY_DEFAULT_READONLY=1. Available modes are: 'r', 'r+', 'w', 'w-'/'x', 'a'. See the docs for details.\n",
      "  \"\"\"Entry point for launching an IPython kernel.\n"
     ]
    }
   ],
   "source": [
    "h5f = h5py.File(\"test_features.h5\")\n",
    "\n",
    "X_test_valide = [x in set(h5f.keys()) for x in X_test_list]\n",
    "X_train_list = [x for x, y in zip(X_test_list, X_test_valide) if y]\n",
    "Y_train = [x for x, y in zip(Y_test, X_test_valide) if y]"
   ]
  },
  {
   "cell_type": "markdown",
   "metadata": {},
   "source": [
    "## Load dataset"
   ]
  },
  {
   "cell_type": "code",
   "execution_count": 24,
   "metadata": {},
   "outputs": [
    {
     "name": "stderr",
     "output_type": "stream",
     "text": [
      "/Users/jojo/opt/anaconda3/lib/python3.7/site-packages/ipykernel_launcher.py:7: H5pyDeprecationWarning: dataset.value has been deprecated. Use dataset[()] instead.\n",
      "  import sys\n"
     ]
    }
   ],
   "source": [
    "# with h5py.File(\"train_features.h5\") as h5f:\n",
    "#     X_train = np.array([h5f[img][:] for img in X_train_list])\n",
    "h5f_train = h5py.File(\"train_features.h5\", \"r\")\n",
    "h5f_test = h5py.File(\"test_features.h5\", \"r\")\n",
    "X  = np.array([h5f_train[img][:] for img in list(h5f_train.keys())] + [h5f_test[img][:] for img in list(h5f_test.keys())])\n",
    "h5f2 = h5py.File(\"Y.h5\", \"r\")\n",
    "Y  = np.array([h5f2[img].value for img in list(h5f_train.keys())+list(h5f_test.keys())])"
   ]
  },
  {
   "cell_type": "code",
   "execution_count": 25,
   "metadata": {},
   "outputs": [
    {
     "name": "stdout",
     "output_type": "stream",
     "text": [
      "(52757, 2048) (52757,)\n"
     ]
    }
   ],
   "source": [
    "print(X.shape, Y.shape)"
   ]
  },
  {
   "cell_type": "code",
   "execution_count": 26,
   "metadata": {},
   "outputs": [],
   "source": [
    "train_set, test_set = train_test_split(range(len(X)), test_size=0.1)"
   ]
  },
  {
   "cell_type": "markdown",
   "metadata": {},
   "source": [
    "## Prediction"
   ]
  },
  {
   "cell_type": "markdown",
   "metadata": {},
   "source": [
    "### XGBoost regressor"
   ]
  },
  {
   "cell_type": "code",
   "execution_count": 31,
   "metadata": {},
   "outputs": [],
   "source": [
    "def my_custom_loss_func(y_true, y_pred):\n",
    "    c, p = spearmanr(y_true, y_pred)\n",
    "    return c\n",
    "score = make_scorer(my_custom_loss_func, greater_is_better=True)"
   ]
  },
  {
   "cell_type": "code",
   "execution_count": 34,
   "metadata": {},
   "outputs": [],
   "source": [
    "ALGORITHMS = {\n",
    "        'model': XGBRegressor(n_jobs=-1),\n",
    "        'params': {\n",
    "            \"n_estimators\": [100, 150, 200], # 'poly', 'sigmoid'\n",
    "            \"max_depth\": [4, 5, 6],\n",
    "            \"eta\": [0.01],\n",
    "        }\n",
    "    }\n",
    "CV = 3\n",
    "model = GridSearchCV(\n",
    "        ALGORITHMS['model'],\n",
    "        ALGORITHMS['params'],\n",
    "        cv=CV,\n",
    "        scoring=score,\n",
    "        n_jobs=-1,\n",
    "        )"
   ]
  },
  {
   "cell_type": "code",
   "execution_count": 35,
   "metadata": {},
   "outputs": [
    {
     "data": {
      "text/plain": [
       "GridSearchCV(cv=3, error_score='raise-deprecating',\n",
       "             estimator=XGBRegressor(base_score=None, booster=None,\n",
       "                                    colsample_bylevel=None,\n",
       "                                    colsample_bynode=None,\n",
       "                                    colsample_bytree=None, gamma=None,\n",
       "                                    gpu_id=None, importance_type='gain',\n",
       "                                    interaction_constraints=None,\n",
       "                                    learning_rate=None, max_delta_step=None,\n",
       "                                    max_depth=None, min_child_weight=None,\n",
       "                                    missing=nan, monotone_constrain...\n",
       "                                    random_state=None, reg_alpha=None,\n",
       "                                    reg_lambda=None, scale_pos_weight=None,\n",
       "                                    subsample=None, tree_method=None,\n",
       "                                    validate_parameters=None, verbosity=None),\n",
       "             iid='warn', n_jobs=-1,\n",
       "             param_grid={'eta': [0.01], 'max_depth': [4, 5, 6],\n",
       "                         'n_estimators': [100, 150, 200]},\n",
       "             pre_dispatch='2*n_jobs', refit=True, return_train_score=False,\n",
       "             scoring=make_scorer(my_custom_loss_func), verbose=0)"
      ]
     },
     "execution_count": 35,
     "metadata": {},
     "output_type": "execute_result"
    }
   ],
   "source": [
    "model.fit(X[:7000], Y[:7000])"
   ]
  },
  {
   "cell_type": "code",
   "execution_count": 39,
   "metadata": {},
   "outputs": [
    {
     "data": {
      "text/plain": [
       "XGBRegressor(base_score=0.5, booster='gbtree', colsample_bylevel=1,\n",
       "             colsample_bynode=1, colsample_bytree=1, eta=0.01, gamma=0,\n",
       "             gpu_id=-1, importance_type='gain', interaction_constraints='',\n",
       "             learning_rate=0.00999999978, max_delta_step=0, max_depth=8,\n",
       "             min_child_weight=1, missing=nan, monotone_constraints='()',\n",
       "             n_estimators=200, n_jobs=-1, num_parallel_tree=1,\n",
       "             objective='reg:squarederror', random_state=0, reg_alpha=0,\n",
       "             reg_lambda=1, scale_pos_weight=1, subsample=1, tree_method='exact',\n",
       "             validate_parameters=1, verbosity=None)"
      ]
     },
     "execution_count": 39,
     "metadata": {},
     "output_type": "execute_result"
    }
   ],
   "source": [
    "model = XGBRegressor(n_jobs=-1, n_estimators=200, max_depth=8, eta=0.01)\n",
    "model.fit(X[:7000], Y[:7000])"
   ]
  },
  {
   "cell_type": "code",
   "execution_count": 40,
   "metadata": {},
   "outputs": [
    {
     "name": "stdout",
     "output_type": "stream",
     "text": [
      "Spearmanr Result: correlation: 0.59634, p-value: 4.339106950756918e-74\n"
     ]
    }
   ],
   "source": [
    "pred = model.predict(X[7000:])\n",
    "c, p = spearmanr(Y[7000:], pred)\n",
    "\n",
    "print(\"Spearmanr Result: correlation: {:.5f}, p-value: {}\".format(c, p))"
   ]
  },
  {
   "cell_type": "markdown",
   "metadata": {},
   "source": [
    "### SVM"
   ]
  },
  {
   "cell_type": "code",
   "execution_count": 32,
   "metadata": {},
   "outputs": [],
   "source": [
    "def my_custom_loss_func(y_true, y_pred):\n",
    "    c, p = spearmanr(y_true, y_pred)\n",
    "    return c\n",
    "score = make_scorer(my_custom_loss_func, greater_is_better=True)"
   ]
  },
  {
   "cell_type": "code",
   "execution_count": 33,
   "metadata": {},
   "outputs": [],
   "source": [
    "from sklearn.svm import SVR, LinearSVR\n",
    "from sklearn.model_selection import GridSearchCV\n",
    "\n",
    "ALGORITHMS = {\n",
    "        'model': SVR(gamma='scale'),\n",
    "        'params': {\n",
    "            \"kernel\": ['rbf', 'sigmoid'], # 'poly', 'sigmoid'\n",
    "            \"C\": [0.1, 1.0, 10.0],\n",
    "            \"epsilon\": [0.001, 1.0],\n",
    "        }\n",
    "    }\n",
    "\n",
    "CV = 3\n",
    "model = GridSearchCV(\n",
    "        ALGORITHMS['model'],\n",
    "        ALGORITHMS['params'],\n",
    "        cv=CV,\n",
    "        scoring=score,\n",
    "        n_jobs=-1,\n",
    "        )"
   ]
  },
  {
   "cell_type": "code",
   "execution_count": 37,
   "metadata": {},
   "outputs": [],
   "source": [
    "model = LinearSVR(C=1.0, epsilon=0.1)"
   ]
  },
  {
   "cell_type": "code",
   "execution_count": 38,
   "metadata": {
    "scrolled": true
   },
   "outputs": [
    {
     "name": "stderr",
     "output_type": "stream",
     "text": [
      "/Users/jojo/opt/anaconda3/lib/python3.7/site-packages/sklearn/svm/base.py:929: ConvergenceWarning: Liblinear failed to converge, increase the number of iterations.\n",
      "  \"the number of iterations.\", ConvergenceWarning)\n"
     ]
    },
    {
     "data": {
      "text/plain": [
       "LinearSVR(C=1.0, dual=True, epsilon=0.1, fit_intercept=True,\n",
       "          intercept_scaling=1.0, loss='epsilon_insensitive', max_iter=1000,\n",
       "          random_state=None, tol=0.0001, verbose=0)"
      ]
     },
     "execution_count": 38,
     "metadata": {},
     "output_type": "execute_result"
    }
   ],
   "source": [
    "model.fit(X[train_set], Y[train_set])"
   ]
  },
  {
   "cell_type": "code",
   "execution_count": 39,
   "metadata": {},
   "outputs": [
    {
     "name": "stdout",
     "output_type": "stream",
     "text": [
      "Spearmanr Result: correlation: 0.58618, p-value: 0.0\n"
     ]
    }
   ],
   "source": [
    "pred = model.predict(X[test_set])\n",
    "c, p = spearmanr(Y[test_set], pred)\n",
    "\n",
    "print(\"Spearmanr Result: correlation: {:.5f}, p-value: {}\".format(c, p))"
   ]
  },
  {
   "cell_type": "markdown",
   "metadata": {},
   "source": [
    "### Neural network"
   ]
  },
  {
   "cell_type": "code",
   "execution_count": 71,
   "metadata": {},
   "outputs": [],
   "source": [
    "from keras.layers import *\n",
    "from keras.models import Model\n",
    "from keras.layers.advanced_activations import LeakyReLU\n",
    "from keras.backend import expand_dims\n",
    "from keras.losses import MeanSquaredLogarithmicError\n",
    "import tensorflow as tf\n",
    "from tensorflow.keras.losses import MSE\n",
    "\n",
    "def correlation_loss(x, y):    \n",
    "    mx = tf.math.reduce_mean(x)\n",
    "    my = tf.math.reduce_mean(y)\n",
    "    xm, ym = x-mx, y-my\n",
    "    r_num = tf.math.reduce_mean(tf.multiply(xm,ym))        \n",
    "    r_den = tf.math.reduce_std(xm) * tf.math.reduce_std(ym)\n",
    "    return MSE(x,y) - r_num / r_den"
   ]
  },
  {
   "cell_type": "code",
   "execution_count": 108,
   "metadata": {},
   "outputs": [],
   "source": [
    "input_feature = Input(shape=(2048,), name='Input')\n",
    "x = Dense(512, activation='sigmoid')(input_feature)\n",
    "x = Dropout(0.5)(x)\n",
    "x = Dense(256, activation='sigmoid')(x)\n",
    "x = Dropout(0.5)(x)\n",
    "x = Dense(1, activation='sigmoid')(x)"
   ]
  },
  {
   "cell_type": "code",
   "execution_count": 109,
   "metadata": {},
   "outputs": [],
   "source": [
    "model = Model(input_feature, x)\n",
    "model.compile(optimizer='adam', loss=correlation_loss)"
   ]
  },
  {
   "cell_type": "code",
   "execution_count": 115,
   "metadata": {},
   "outputs": [
    {
     "name": "stdout",
     "output_type": "stream",
     "text": [
      "Epoch 1/10\n",
      "186/186 [==============================] - 2s 9ms/step - loss: -0.7764 - val_loss: -0.6290\n",
      "Epoch 2/10\n",
      "186/186 [==============================] - 2s 9ms/step - loss: -0.7824 - val_loss: -0.6303\n",
      "Epoch 3/10\n",
      "186/186 [==============================] - 2s 9ms/step - loss: -0.7918 - val_loss: -0.6304\n",
      "Epoch 4/10\n",
      "186/186 [==============================] - 2s 9ms/step - loss: -0.7963 - val_loss: -0.6285\n",
      "Epoch 5/10\n",
      "186/186 [==============================] - 2s 10ms/step - loss: -0.8035 - val_loss: -0.6295\n",
      "Epoch 6/10\n",
      "186/186 [==============================] - 2s 10ms/step - loss: -0.8083 - val_loss: -0.6284\n",
      "Epoch 7/10\n",
      "186/186 [==============================] - 2s 9ms/step - loss: -0.8148 - val_loss: -0.6309\n",
      "Epoch 8/10\n",
      "186/186 [==============================] - 2s 9ms/step - loss: -0.8217 - val_loss: -0.6233\n",
      "Epoch 9/10\n",
      "186/186 [==============================] - 2s 10ms/step - loss: -0.8265 - val_loss: -0.6224\n",
      "Epoch 10/10\n",
      "186/186 [==============================] - 2s 10ms/step - loss: -0.8306 - val_loss: -0.6249\n"
     ]
    },
    {
     "data": {
      "text/plain": [
       "<tensorflow.python.keras.callbacks.History at 0x7ff6d057c190>"
      ]
     },
     "execution_count": 115,
     "metadata": {},
     "output_type": "execute_result"
    }
   ],
   "source": [
    "model.fit(X[train_set], Y[train_set], batch_size=256, epochs=10, validation_data=(X[test_set], Y[test_set]))"
   ]
  },
  {
   "cell_type": "code",
   "execution_count": 117,
   "metadata": {},
   "outputs": [
    {
     "data": {
      "text/plain": [
       "[<matplotlib.lines.Line2D at 0x7ff71c6c98d0>]"
      ]
     },
     "execution_count": 117,
     "metadata": {},
     "output_type": "execute_result"
    },
    {
     "data": {
      "image/png": "[encoded data removed]",
      "text/plain": [
       "<Figure size 432x288 with 1 Axes>"
      ]
     },
     "metadata": {
      "needs_background": "light"
     },
     "output_type": "display_data"
    }
   ],
   "source": [
    "import matplotlib.pyplot as plt\n",
    "\n",
    "c = list(range(0, len(Y[test_set]), 5))\n",
    "index = np.argsort(Y[test_set])[c]\n",
    "Y_pred = model.predict(X[test_set])\n",
    "\n",
    "plt.plot(c, Y[test_set][index])\n",
    "plt.plot(c, Y_pred[index], '.')"
   ]
  },
  {
   "cell_type": "code",
   "execution_count": 107,
   "metadata": {},
   "outputs": [
    {
     "name": "stdout",
     "output_type": "stream",
     "text": [
      "Spearmanr Result: correlation: 0.67398, p-value: 0.0\n"
     ]
    }
   ],
   "source": [
    "pred = model.predict(X[test_set])\n",
    "c, p = spearmanr(Y[test_set], pred)\n",
    "\n",
    "print(\"Spearmanr Result: correlation: {:.5f}, p-value: {}\".format(c, p))"
   ]
  },
  {
   "cell_type": "markdown",
   "metadata": {},
   "source": [
    "## Nomalized label"
   ]
  },
  {
   "cell_type": "code",
   "execution_count": 88,
   "metadata": {},
   "outputs": [],
   "source": [
    "Y_new = (Y-np.mean(Y))/np.std(Y)\n",
    "Y_new = (Y-np.min(Y))/(np.max(Y)-np.min(Y))"
   ]
  },
  {
   "cell_type": "code",
   "execution_count": 118,
   "metadata": {},
   "outputs": [],
   "source": [
    "input_feature = Input(shape=(2048,), name='Input')\n",
    "x = Dense(512, activation='tanh')(input_feature)\n",
    "x = Dropout(0.5)(x)\n",
    "x = Dense(256, activation='tanh')(x)\n",
    "x = Dropout(0.5)(x)\n",
    "x = Dense(128, activation='tanh')(x)\n",
    "x = Dropout(0.5)(x)\n",
    "x = Dense(1, activation='tanh')(x)"
   ]
  },
  {
   "cell_type": "code",
   "execution_count": 119,
   "metadata": {},
   "outputs": [],
   "source": [
    "model = Model(input_feature, x)\n",
    "model.compile(optimizer='adam', loss=\"mse\")"
   ]
  },
  {
   "cell_type": "code",
   "execution_count": 120,
   "metadata": {},
   "outputs": [
    {
     "name": "stdout",
     "output_type": "stream",
     "text": [
      "Epoch 1/10\n",
      "186/186 [==============================] - 2s 12ms/step - loss: 0.8606 - val_loss: 0.7005\n",
      "Epoch 2/10\n",
      "186/186 [==============================] - 2s 9ms/step - loss: 0.7096 - val_loss: 0.6158\n",
      "Epoch 3/10\n",
      "186/186 [==============================] - 2s 10ms/step - loss: 0.6141 - val_loss: 0.6027\n",
      "Epoch 4/10\n",
      "186/186 [==============================] - 2s 10ms/step - loss: 0.5908 - val_loss: 0.5970\n",
      "Epoch 5/10\n",
      "186/186 [==============================] - 2s 13ms/step - loss: 0.5820 - val_loss: 0.5887\n",
      "Epoch 6/10\n",
      "186/186 [==============================] - 2s 11ms/step - loss: 0.5752 - val_loss: 0.5926\n",
      "Epoch 7/10\n",
      "186/186 [==============================] - 3s 14ms/step - loss: 0.5698 - val_loss: 0.5972\n",
      "Epoch 8/10\n",
      "186/186 [==============================] - 2s 11ms/step - loss: 0.5644 - val_loss: 0.5833\n",
      "Epoch 9/10\n",
      "186/186 [==============================] - 2s 11ms/step - loss: 0.5609 - val_loss: 0.5804\n",
      "Epoch 10/10\n",
      "186/186 [==============================] - 2s 11ms/step - loss: 0.5556 - val_loss: 0.5818\n"
     ]
    },
    {
     "data": {
      "text/plain": [
       "<tensorflow.python.keras.callbacks.History at 0x7ff6d0d9bf10>"
      ]
     },
     "execution_count": 120,
     "metadata": {},
     "output_type": "execute_result"
    }
   ],
   "source": [
    "model.fit(X[train_set], Y_new[train_set], batch_size=256, epochs=10, validation_data=(X[test_set], Y_new[test_set]))"
   ]
  },
  {
   "cell_type": "code",
   "execution_count": 121,
   "metadata": {},
   "outputs": [
    {
     "name": "stdout",
     "output_type": "stream",
     "text": [
      "Spearmanr Result: correlation: 0.66932, p-value: 0.0\n"
     ]
    }
   ],
   "source": [
    "pred = model.predict(X[test_set])\n",
    "c, p = spearmanr(Y_new[test_set], pred)\n",
    "\n",
    "print(\"Spearmanr Result: correlation: {:.5f}, p-value: {}\".format(c, p))"
   ]
  },
  {
   "cell_type": "code",
   "execution_count": 123,
   "metadata": {},
   "outputs": [
    {
     "data": {
      "text/plain": [
       "[<matplotlib.lines.Line2D at 0x7ff6ae7e7390>]"
      ]
     },
     "execution_count": 123,
     "metadata": {},
     "output_type": "execute_result"
    },
    {
     "data": {
      "image/png": "[encoded data removed]",
      "text/plain": [
       "<Figure size 432x288 with 1 Axes>"
      ]
     },
     "metadata": {
      "needs_background": "light"
     },
     "output_type": "display_data"
    }
   ],
   "source": [
    "import matplotlib.pyplot as plt\n",
    "\n",
    "c = list(range(0, len(Y_new[test_set]), 5))\n",
    "index = np.argsort(Y_new[test_set])[c]\n",
    "Y_new_pred = model.predict(X[test_set])\n",
    "plt.plot(c, Y_new[test_set][index])\n",
    "plt.plot(c, Y_new_pred[index], '.')"
   ]
  },
  {
   "cell_type": "code",
   "execution_count": 128,
   "metadata": {},
   "outputs": [
    {
     "data": {
      "text/plain": [
       "871"
      ]
     },
     "execution_count": 128,
     "metadata": {},
     "output_type": "execute_result"
    }
   ],
   "source": [
    "np.sum(Y_new[test_set]>1)"
   ]
  },
  {
   "cell_type": "code",
   "execution_count": 135,
   "metadata": {},
   "outputs": [
    {
     "data": {
      "text/plain": [
       "0.9960560047327943"
      ]
     },
     "execution_count": 135,
     "metadata": {},
     "output_type": "execute_result"
    }
   ],
   "source": [
    "np.sum(Y_pred[Y[test_set]>0.5]>0.5) / np.sum(Y[test_set]>0.5)"
   ]
  },
  {
   "cell_type": "code",
   "execution_count": 184,
   "metadata": {},
   "outputs": [],
   "source": [
    "model = ResNet152(weights=\"imagenet\", include_top=False, pooling='avg')"
   ]
  },
  {
   "cell_type": "code",
   "execution_count": 185,
   "metadata": {},
   "outputs": [],
   "source": [
    "IMG_SIZE=(224, 224)\n",
    "image = load_img(\"frame/dyson1.mp4-frame-200.jpg\", target_size=IMG_SIZE)\n",
    "image = img_to_array(image)\n",
    "image = np.expand_dims(image, axis=0)"
   ]
  },
  {
   "cell_type": "code",
   "execution_count": 186,
   "metadata": {},
   "outputs": [],
   "source": [
    "features = model.predict(image)"
   ]
  },
  {
   "cell_type": "code",
   "execution_count": 187,
   "metadata": {},
   "outputs": [
    {
     "data": {
      "text/plain": [
       "(1, 2048)"
      ]
     },
     "execution_count": 187,
     "metadata": {},
     "output_type": "execute_result"
    }
   ],
   "source": [
    "features.shape"
   ]
  },
  {
   "cell_type": "code",
   "execution_count": 195,
   "metadata": {},
   "outputs": [
    {
     "data": {
      "text/plain": [
       "array([[0.78836733]], dtype=float32)"
      ]
     },
     "execution_count": 195,
     "metadata": {},
     "output_type": "execute_result"
    }
   ],
   "source": [
    "model.predict(features)"
   ]
  },
  {
   "cell_type": "code",
   "execution_count": null,
   "metadata": {},
   "outputs": [],
   "source": []
  }
 ],
 "metadata": {
  "kernelspec": {
   "display_name": "Python 3",
   "language": "python",
   "name": "python3"
  },
  "language_info": {
   "codemirror_mode": {
    "name": "ipython",
    "version": 3
   },
   "file_extension": ".py",
   "mimetype": "text/x-python",
   "name": "python",
   "nbconvert_exporter": "python",
   "pygments_lexer": "ipython3",
   "version": "3.7.6"
  }
 },
 "nbformat": 4,
 "nbformat_minor": 2
}
